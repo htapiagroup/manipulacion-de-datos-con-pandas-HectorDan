{
  "nbformat": 4,
  "nbformat_minor": 0,
  "metadata": {
    "anaconda-cloud": {},
    "kernelspec": {
      "display_name": "Python 3",
      "language": "python",
      "name": "python3"
    },
    "language_info": {
      "codemirror_mode": {
        "name": "ipython",
        "version": 3
      },
      "file_extension": ".py",
      "mimetype": "text/x-python",
      "name": "python",
      "nbconvert_exporter": "python",
      "pygments_lexer": "ipython3",
      "version": "3.7.1"
    },
    "colab": {
      "name": "02_09_Working_with_Time_Series.ipynb",
      "provenance": [],
      "include_colab_link": true
    }
  },
  "cells": [
    {
      "cell_type": "markdown",
      "metadata": {
        "id": "view-in-github",
        "colab_type": "text"
      },
      "source": [
        "<a href=\"https://colab.research.google.com/github/htapiagroup/manipulacion-de-datos-con-pandas-HectorDan/blob/master/02_09_Working_with_Time_Series.ipynb\" target=\"_parent\"><img src=\"https://colab.research.google.com/assets/colab-badge.svg\" alt=\"Open In Colab\"/></a>"
      ]
    },
    {
      "cell_type": "markdown",
      "metadata": {
        "id": "5TnnOGdkzhgJ",
        "colab_type": "text"
      },
      "source": [
        "<!--BOOK_INFORMATION-->\n",
        "<img align=\"left\" style=\"padding-right:10px;\" src=\"https://github.com/htapia/TallerPythonIntroCienciaDatos/blob/master/notebooks/figures/header_small.png?raw=1\">\n",
        "\n",
        "*Esta libreta contiene material del Taller de Python que se lleva a cabo como parte del \n",
        "evento [Data Challenge Industrial 4.0](www.lania.mx/dci). El contenido ha sido adaptado \n",
        "por HTM y GED a partir del libro [Python Data Science Handbook](http://shop.oreilly.com/product/0636920034919.do) \n",
        "de Jake VanderPlas y se mantiene la licencia sobre el texto, \n",
        "[CC-BY-NC-ND license](https://creativecommons.org/licenses/by-nc-nd/3.0/us/legalcode), \n",
        "y sobre el codigo [MIT license](https://opensource.org/licenses/MIT).*"
      ]
    },
    {
      "cell_type": "markdown",
      "metadata": {
        "id": "Bp4zdTPezhgR",
        "colab_type": "text"
      },
      "source": [
        "<!--NAVIGATION-->\n",
        "< [Operaciones sobre texto](02.08-Working-With-Strings.ipynb) | [Contenido](Index.ipynb) | [Machine Learning](03.00-Machine-Learning.ipynb) >\n",
        "\n",
        "<a href=\"https://colab.research.google.com/github/htapia/TallerPythonIntroCienciaDatos/blob/master/notebooks/02.09-Working-with-Time-Series.ipynb\"><img align=\"left\" src=\"https://colab.research.google.com/assets/colab-badge.svg\" alt=\"Open in Colab\" title=\"Open and Execute in Google Colaboratory\"></a>\n"
      ]
    },
    {
      "cell_type": "markdown",
      "metadata": {
        "id": "xyoYAPRyzhgV",
        "colab_type": "text"
      },
      "source": [
        "# Series de tiempo"
      ]
    },
    {
      "cell_type": "markdown",
      "metadata": {
        "id": "pDxrJA2zzhgX",
        "colab_type": "text"
      },
      "source": [
        "## Fechas y horas: representación del tiempo en Python "
      ]
    },
    {
      "cell_type": "markdown",
      "metadata": {
        "id": "ocjLnIPKzhga",
        "colab_type": "text"
      },
      "source": [
        "### Python natico: ``datetime`` y ``dateutil``"
      ]
    },
    {
      "cell_type": "code",
      "metadata": {
        "id": "pZ8oiJwZzhgc",
        "colab_type": "code",
        "outputId": "73da0921-c032-4fdb-ab84-47b1ae906c04",
        "colab": {
          "base_uri": "https://localhost:8080/",
          "height": 35
        }
      },
      "source": [
        "from datetime import datetime\n",
        "datetime(year=2015, month=7, day=4)"
      ],
      "execution_count": 1,
      "outputs": [
        {
          "output_type": "execute_result",
          "data": {
            "text/plain": [
              "datetime.datetime(2015, 7, 4, 0, 0)"
            ]
          },
          "metadata": {
            "tags": []
          },
          "execution_count": 1
        }
      ]
    },
    {
      "cell_type": "code",
      "metadata": {
        "id": "RNvwE9U1zhgt",
        "colab_type": "code",
        "outputId": "7923f74b-9b97-4b16-ed86-9f71d2a28558",
        "colab": {
          "base_uri": "https://localhost:8080/",
          "height": 35
        }
      },
      "source": [
        "from dateutil import parser\n",
        "date = parser.parse(\"4th of July, 2015\")\n",
        "date"
      ],
      "execution_count": 2,
      "outputs": [
        {
          "output_type": "execute_result",
          "data": {
            "text/plain": [
              "datetime.datetime(2015, 7, 4, 0, 0)"
            ]
          },
          "metadata": {
            "tags": []
          },
          "execution_count": 2
        }
      ]
    },
    {
      "cell_type": "code",
      "metadata": {
        "id": "y8Ucq2vlzhg3",
        "colab_type": "code",
        "outputId": "e4b6e6ab-03b6-4400-d904-3a74855e8d7d",
        "colab": {
          "base_uri": "https://localhost:8080/",
          "height": 35
        }
      },
      "source": [
        "date.strftime('%A')"
      ],
      "execution_count": 3,
      "outputs": [
        {
          "output_type": "execute_result",
          "data": {
            "text/plain": [
              "'Saturday'"
            ]
          },
          "metadata": {
            "tags": []
          },
          "execution_count": 3
        }
      ]
    },
    {
      "cell_type": "markdown",
      "metadata": {
        "id": "G4uy5WRjzhhD",
        "colab_type": "text"
      },
      "source": [
        "### Arrays de tipo tiempo:  ``datetime64`` de NumPy"
      ]
    },
    {
      "cell_type": "code",
      "metadata": {
        "id": "4FuyKPMQzhhM",
        "colab_type": "code",
        "outputId": "5c5c78c7-f586-45f3-c09a-9638ed5c2982",
        "colab": {
          "base_uri": "https://localhost:8080/",
          "height": 35
        }
      },
      "source": [
        "import numpy as np\n",
        "date = np.array('2015-07-04', dtype=np.datetime64)\n",
        "date"
      ],
      "execution_count": 4,
      "outputs": [
        {
          "output_type": "execute_result",
          "data": {
            "text/plain": [
              "array('2015-07-04', dtype='datetime64[D]')"
            ]
          },
          "metadata": {
            "tags": []
          },
          "execution_count": 4
        }
      ]
    },
    {
      "cell_type": "code",
      "metadata": {
        "id": "kOS8ulokzhhy",
        "colab_type": "code",
        "outputId": "f5458297-5c49-4c85-9b58-85363917edbf",
        "colab": {
          "base_uri": "https://localhost:8080/",
          "height": 90
        }
      },
      "source": [
        "date + np.arange(12)"
      ],
      "execution_count": 5,
      "outputs": [
        {
          "output_type": "execute_result",
          "data": {
            "text/plain": [
              "array(['2015-07-04', '2015-07-05', '2015-07-06', '2015-07-07',\n",
              "       '2015-07-08', '2015-07-09', '2015-07-10', '2015-07-11',\n",
              "       '2015-07-12', '2015-07-13', '2015-07-14', '2015-07-15'],\n",
              "      dtype='datetime64[D]')"
            ]
          },
          "metadata": {
            "tags": []
          },
          "execution_count": 5
        }
      ]
    },
    {
      "cell_type": "code",
      "metadata": {
        "id": "gM9RVTEYzhiR",
        "colab_type": "code",
        "outputId": "fab8a7a1-71e7-4977-eece-1cdd74249a2f",
        "colab": {
          "base_uri": "https://localhost:8080/",
          "height": 35
        }
      },
      "source": [
        "np.datetime64('2015-07-04')"
      ],
      "execution_count": 6,
      "outputs": [
        {
          "output_type": "execute_result",
          "data": {
            "text/plain": [
              "numpy.datetime64('2015-07-04')"
            ]
          },
          "metadata": {
            "tags": []
          },
          "execution_count": 6
        }
      ]
    },
    {
      "cell_type": "code",
      "metadata": {
        "id": "-DvWmzI1zhie",
        "colab_type": "code",
        "outputId": "360081f6-2382-4fd3-8184-fe09eb4f8e03",
        "colab": {
          "base_uri": "https://localhost:8080/",
          "height": 35
        }
      },
      "source": [
        "np.datetime64('2015-07-04 12:00')"
      ],
      "execution_count": 7,
      "outputs": [
        {
          "output_type": "execute_result",
          "data": {
            "text/plain": [
              "numpy.datetime64('2015-07-04T12:00')"
            ]
          },
          "metadata": {
            "tags": []
          },
          "execution_count": 7
        }
      ]
    },
    {
      "cell_type": "code",
      "metadata": {
        "id": "_VzKW7kxzhin",
        "colab_type": "code",
        "outputId": "f488f94e-c1ef-44b0-b3c3-89537ea1a47e",
        "colab": {
          "base_uri": "https://localhost:8080/",
          "height": 35
        }
      },
      "source": [
        "np.datetime64('2015-07-04 12:59:59.50', 'ns')"
      ],
      "execution_count": 8,
      "outputs": [
        {
          "output_type": "execute_result",
          "data": {
            "text/plain": [
              "numpy.datetime64('2015-07-04T12:59:59.500000000')"
            ]
          },
          "metadata": {
            "tags": []
          },
          "execution_count": 8
        }
      ]
    },
    {
      "cell_type": "markdown",
      "metadata": {
        "id": "zmBb9gemzhix",
        "colab_type": "text"
      },
      "source": [
        "|Code    | Meaning     | Time span (relative) | Time span (absolute)   |\n",
        "|--------|-------------|----------------------|------------------------|\n",
        "| ``Y``  | Year\t       | ± 9.2e18 years       | [9.2e18 BC, 9.2e18 AD] |\n",
        "| ``M``  | Month       | ± 7.6e17 years       | [7.6e17 BC, 7.6e17 AD] |\n",
        "| ``W``  | Week\t       | ± 1.7e17 years       | [1.7e17 BC, 1.7e17 AD] |\n",
        "| ``D``  | Day         | ± 2.5e16 years       | [2.5e16 BC, 2.5e16 AD] |\n",
        "| ``h``  | Hour        | ± 1.0e15 years       | [1.0e15 BC, 1.0e15 AD] |\n",
        "| ``m``  | Minute      | ± 1.7e13 years       | [1.7e13 BC, 1.7e13 AD] |\n",
        "| ``s``  | Second      | ± 2.9e12 years       | [ 2.9e9 BC, 2.9e9 AD]  |\n",
        "| ``ms`` | Millisecond | ± 2.9e9 years        | [ 2.9e6 BC, 2.9e6 AD]  |\n",
        "| ``us`` | Microsecond | ± 2.9e6 years        | [290301 BC, 294241 AD] |\n",
        "| ``ns`` | Nanosecond  | ± 292 years          | [ 1678 AD, 2262 AD]    |\n",
        "| ``ps`` | Picosecond  | ± 106 days           | [ 1969 AD, 1970 AD]    |\n",
        "| ``fs`` | Femtosecond | ± 2.6 hours          | [ 1969 AD, 1970 AD]    |\n",
        "| ``as`` | Attosecond  | ± 9.2 seconds        | [ 1969 AD, 1970 AD]    |"
      ]
    },
    {
      "cell_type": "markdown",
      "metadata": {
        "id": "saCtU6Q2zhi1",
        "colab_type": "text"
      },
      "source": [
        "### Fechas y horas en Pandas: lo mejor de los dos mundos"
      ]
    },
    {
      "cell_type": "code",
      "metadata": {
        "id": "UAnlcmpizhi3",
        "colab_type": "code",
        "outputId": "a8620bdb-3481-4cfe-db5e-1f8d895b24fa",
        "colab": {
          "base_uri": "https://localhost:8080/",
          "height": 0
        }
      },
      "source": [
        "import pandas as pd\n",
        "date = pd.to_datetime(\"4th of July, 2015\")\n",
        "date"
      ],
      "execution_count": 9,
      "outputs": [
        {
          "output_type": "execute_result",
          "data": {
            "text/plain": [
              "Timestamp('2015-07-04 00:00:00')"
            ]
          },
          "metadata": {
            "tags": []
          },
          "execution_count": 9
        }
      ]
    },
    {
      "cell_type": "code",
      "metadata": {
        "id": "f_yEisrzzhi9",
        "colab_type": "code",
        "outputId": "7486543b-5431-480d-9caf-340987a5f9d6",
        "colab": {
          "base_uri": "https://localhost:8080/",
          "height": 0
        }
      },
      "source": [
        "date.strftime('%A')"
      ],
      "execution_count": 10,
      "outputs": [
        {
          "output_type": "execute_result",
          "data": {
            "text/plain": [
              "'Saturday'"
            ]
          },
          "metadata": {
            "tags": []
          },
          "execution_count": 10
        }
      ]
    },
    {
      "cell_type": "code",
      "metadata": {
        "id": "eE7RV0w4zhjG",
        "colab_type": "code",
        "outputId": "928abb96-df98-4483-83f5-b59696c76d32",
        "colab": {
          "base_uri": "https://localhost:8080/",
          "height": 0
        }
      },
      "source": [
        "date + pd.to_timedelta(np.arange(12), 'D')"
      ],
      "execution_count": 11,
      "outputs": [
        {
          "output_type": "execute_result",
          "data": {
            "text/plain": [
              "DatetimeIndex(['2015-07-04', '2015-07-05', '2015-07-06', '2015-07-07',\n",
              "               '2015-07-08', '2015-07-09', '2015-07-10', '2015-07-11',\n",
              "               '2015-07-12', '2015-07-13', '2015-07-14', '2015-07-15'],\n",
              "              dtype='datetime64[ns]', freq=None)"
            ]
          },
          "metadata": {
            "tags": []
          },
          "execution_count": 11
        }
      ]
    },
    {
      "cell_type": "markdown",
      "metadata": {
        "id": "LQqdNq_kzhjN",
        "colab_type": "text"
      },
      "source": [
        "##  Series de Tiempo en Pandas: Indexado por el tiempo"
      ]
    },
    {
      "cell_type": "code",
      "metadata": {
        "id": "0hfRwLHFzhjP",
        "colab_type": "code",
        "outputId": "77c9f0ab-891a-43e2-e6dd-092cfb006a1a",
        "colab": {
          "base_uri": "https://localhost:8080/",
          "height": 108
        }
      },
      "source": [
        "index = pd.DatetimeIndex(['2014-07-04', '2014-08-04',\n",
        "                          '2015-07-04', '2015-08-04'])\n",
        "data = pd.Series([0, 1, 2, 3], index=index)\n",
        "data"
      ],
      "execution_count": 12,
      "outputs": [
        {
          "output_type": "execute_result",
          "data": {
            "text/plain": [
              "2014-07-04    0\n",
              "2014-08-04    1\n",
              "2015-07-04    2\n",
              "2015-08-04    3\n",
              "dtype: int64"
            ]
          },
          "metadata": {
            "tags": []
          },
          "execution_count": 12
        }
      ]
    },
    {
      "cell_type": "code",
      "metadata": {
        "id": "WUd2qsROzhjX",
        "colab_type": "code",
        "outputId": "bfa27bb1-61d0-4fe2-8d05-f9c62e811c11",
        "colab": {
          "base_uri": "https://localhost:8080/",
          "height": 90
        }
      },
      "source": [
        "data['2014-07-04':'2015-07-04']"
      ],
      "execution_count": 13,
      "outputs": [
        {
          "output_type": "execute_result",
          "data": {
            "text/plain": [
              "2014-07-04    0\n",
              "2014-08-04    1\n",
              "2015-07-04    2\n",
              "dtype: int64"
            ]
          },
          "metadata": {
            "tags": []
          },
          "execution_count": 13
        }
      ]
    },
    {
      "cell_type": "code",
      "metadata": {
        "id": "KJ6aSuP8zhjd",
        "colab_type": "code",
        "outputId": "6b77e4ba-3448-4190-bae8-ab4ed91fa602",
        "colab": {
          "base_uri": "https://localhost:8080/",
          "height": 72
        }
      },
      "source": [
        "data['2015']"
      ],
      "execution_count": 14,
      "outputs": [
        {
          "output_type": "execute_result",
          "data": {
            "text/plain": [
              "2015-07-04    2\n",
              "2015-08-04    3\n",
              "dtype: int64"
            ]
          },
          "metadata": {
            "tags": []
          },
          "execution_count": 14
        }
      ]
    },
    {
      "cell_type": "markdown",
      "metadata": {
        "id": "vVyXDcv5zhjk",
        "colab_type": "text"
      },
      "source": [
        "## Estructuras de Series de tiempo en Pandas\n",
        "\n",
        "- Para *Marcas de tiempo*, Pandas proporciona ``Timestamp``. Como se menciono anteriormente, es esencialmente un remplazo para la fecha y hora ativa de Python ``datetime``, pero se basa en el tipo de dato mas eficiente ``numpy.datetime64``. La estructura de indice asociada es ``DatetimeIndex``.\n",
        "- Para *periodos de tiempo*, Pandas proporciona el tipo ``Period``. esto codifica un intervalo de frecuencia fija basado en ``numpy.datetime64``. La estructura de indice asociada es ``PeriodIndex``.\n",
        "- Para *duraciones* or *deltas de tiempo*, Pandas proporciona el tipo ``Timedelta``. ``Timedelta`` es el remplazo mas eficiente para el tipo nativo de Python ``datetime.timedelta``, y esta basado en ``numpy.timedelta64``. La estructura de indice asociada es ``TimedeltaIndex``."
      ]
    },
    {
      "cell_type": "code",
      "metadata": {
        "id": "JAdDnW8-zhjo",
        "colab_type": "code",
        "outputId": "507f8108-449c-4b14-a730-a0a00b231169",
        "colab": {
          "base_uri": "https://localhost:8080/",
          "height": 72
        }
      },
      "source": [
        "dates = pd.to_datetime([datetime(2015, 7, 3), '4th of July, 2015',\n",
        "                       '2015-Jul-6', '07-07-2015', '20150708'])\n",
        "dates"
      ],
      "execution_count": 15,
      "outputs": [
        {
          "output_type": "execute_result",
          "data": {
            "text/plain": [
              "DatetimeIndex(['2015-07-03', '2015-07-04', '2015-07-06', '2015-07-07',\n",
              "               '2015-07-08'],\n",
              "              dtype='datetime64[ns]', freq=None)"
            ]
          },
          "metadata": {
            "tags": []
          },
          "execution_count": 15
        }
      ]
    },
    {
      "cell_type": "code",
      "metadata": {
        "id": "YnXNPMv9zhjy",
        "colab_type": "code",
        "outputId": "4dab9196-3557-40ff-8208-59c5b81006b5",
        "colab": {
          "base_uri": "https://localhost:8080/",
          "height": 72
        }
      },
      "source": [
        "dates.to_period('D')"
      ],
      "execution_count": 16,
      "outputs": [
        {
          "output_type": "execute_result",
          "data": {
            "text/plain": [
              "PeriodIndex(['2015-07-03', '2015-07-04', '2015-07-06', '2015-07-07',\n",
              "             '2015-07-08'],\n",
              "            dtype='period[D]', freq='D')"
            ]
          },
          "metadata": {
            "tags": []
          },
          "execution_count": 16
        }
      ]
    },
    {
      "cell_type": "code",
      "metadata": {
        "id": "CAgtIG4szhj9",
        "colab_type": "code",
        "outputId": "d3b79e12-4281-4039-bd4c-0357f3da4ed1",
        "colab": {
          "base_uri": "https://localhost:8080/",
          "height": 55
        }
      },
      "source": [
        "dates - dates[0]"
      ],
      "execution_count": 17,
      "outputs": [
        {
          "output_type": "execute_result",
          "data": {
            "text/plain": [
              "TimedeltaIndex(['0 days', '1 days', '3 days', '4 days', '5 days'], dtype='timedelta64[ns]', freq=None)"
            ]
          },
          "metadata": {
            "tags": []
          },
          "execution_count": 17
        }
      ]
    },
    {
      "cell_type": "markdown",
      "metadata": {
        "id": "8RDaVsSHzhkI",
        "colab_type": "text"
      },
      "source": [
        "### Sucesiones regulares: ``pd.date_range()``"
      ]
    },
    {
      "cell_type": "code",
      "metadata": {
        "id": "9nkKuEnizhkQ",
        "colab_type": "code",
        "outputId": "08a2beef-5b33-4d02-9fdc-5581f56ac9b3",
        "colab": {
          "base_uri": "https://localhost:8080/",
          "height": 0
        }
      },
      "source": [
        "pd.date_range('2015-07-03', '2015-07-10')"
      ],
      "execution_count": 18,
      "outputs": [
        {
          "output_type": "execute_result",
          "data": {
            "text/plain": [
              "DatetimeIndex(['2015-07-03', '2015-07-04', '2015-07-05', '2015-07-06',\n",
              "               '2015-07-07', '2015-07-08', '2015-07-09', '2015-07-10'],\n",
              "              dtype='datetime64[ns]', freq='D')"
            ]
          },
          "metadata": {
            "tags": []
          },
          "execution_count": 18
        }
      ]
    },
    {
      "cell_type": "code",
      "metadata": {
        "id": "7ZT4kPWQzhkb",
        "colab_type": "code",
        "outputId": "0a968a73-db34-493c-d1d6-7533f642e407",
        "colab": {
          "base_uri": "https://localhost:8080/",
          "height": 0
        }
      },
      "source": [
        "pd.date_range('2015-07-03', periods=8)"
      ],
      "execution_count": 19,
      "outputs": [
        {
          "output_type": "execute_result",
          "data": {
            "text/plain": [
              "DatetimeIndex(['2015-07-03', '2015-07-04', '2015-07-05', '2015-07-06',\n",
              "               '2015-07-07', '2015-07-08', '2015-07-09', '2015-07-10'],\n",
              "              dtype='datetime64[ns]', freq='D')"
            ]
          },
          "metadata": {
            "tags": []
          },
          "execution_count": 19
        }
      ]
    },
    {
      "cell_type": "code",
      "metadata": {
        "id": "iJbakxnHzhkn",
        "colab_type": "code",
        "outputId": "bee99b2f-7e98-4944-ade2-06b1f27b025d",
        "colab": {
          "base_uri": "https://localhost:8080/",
          "height": 0
        }
      },
      "source": [
        "pd.date_range('2015-07-03', periods=8, freq='H')"
      ],
      "execution_count": 20,
      "outputs": [
        {
          "output_type": "execute_result",
          "data": {
            "text/plain": [
              "DatetimeIndex(['2015-07-03 00:00:00', '2015-07-03 01:00:00',\n",
              "               '2015-07-03 02:00:00', '2015-07-03 03:00:00',\n",
              "               '2015-07-03 04:00:00', '2015-07-03 05:00:00',\n",
              "               '2015-07-03 06:00:00', '2015-07-03 07:00:00'],\n",
              "              dtype='datetime64[ns]', freq='H')"
            ]
          },
          "metadata": {
            "tags": []
          },
          "execution_count": 20
        }
      ]
    },
    {
      "cell_type": "code",
      "metadata": {
        "id": "Gh--bPcZzhkv",
        "colab_type": "code",
        "outputId": "7286f8ec-6a59-4405-e4d2-3597841b26d9",
        "colab": {
          "base_uri": "https://localhost:8080/",
          "height": 0
        }
      },
      "source": [
        "pd.period_range('2015-07', periods=8, freq='M')"
      ],
      "execution_count": 21,
      "outputs": [
        {
          "output_type": "execute_result",
          "data": {
            "text/plain": [
              "PeriodIndex(['2015-07', '2015-08', '2015-09', '2015-10', '2015-11', '2015-12',\n",
              "             '2016-01', '2016-02'],\n",
              "            dtype='period[M]', freq='M')"
            ]
          },
          "metadata": {
            "tags": []
          },
          "execution_count": 21
        }
      ]
    },
    {
      "cell_type": "code",
      "metadata": {
        "id": "FNT2DBTNzhk5",
        "colab_type": "code",
        "outputId": "2c91c430-5d3d-4d83-80d5-382fbab1ec04",
        "colab": {
          "base_uri": "https://localhost:8080/",
          "height": 0
        }
      },
      "source": [
        "pd.timedelta_range(0, periods=10, freq='H')"
      ],
      "execution_count": 22,
      "outputs": [
        {
          "output_type": "execute_result",
          "data": {
            "text/plain": [
              "TimedeltaIndex(['00:00:00', '01:00:00', '02:00:00', '03:00:00', '04:00:00',\n",
              "                '05:00:00', '06:00:00', '07:00:00', '08:00:00', '09:00:00'],\n",
              "               dtype='timedelta64[ns]', freq='H')"
            ]
          },
          "metadata": {
            "tags": []
          },
          "execution_count": 22
        }
      ]
    },
    {
      "cell_type": "markdown",
      "metadata": {
        "id": "Ej1oQecVzhlF",
        "colab_type": "text"
      },
      "source": [
        "## Frecuencias e intervalos (offsets)"
      ]
    },
    {
      "cell_type": "markdown",
      "metadata": {
        "id": "Di1cJVrnzhlH",
        "colab_type": "text"
      },
      "source": [
        "| Code   | Description         | Code   | Description          |\n",
        "|--------|---------------------|--------|----------------------|\n",
        "| ``D``  | Calendar day        | ``B``  | Business day         |\n",
        "| ``W``  | Weekly              |        |                      |\n",
        "| ``M``  | Month end           | ``BM`` | Business month end   |\n",
        "| ``Q``  | Quarter end         | ``BQ`` | Business quarter end |\n",
        "| ``A``  | Year end            | ``BA`` | Business year end    |\n",
        "| ``H``  | Hours               | ``BH`` | Business hours       |\n",
        "| ``T``  | Minutes             |        |                      |\n",
        "| ``S``  | Seconds             |        |                      |\n",
        "| ``L``  | Milliseonds         |        |                      |\n",
        "| ``U``  | Microseconds        |        |                      |\n",
        "| ``N``  | nanoseconds         |        |                      |"
      ]
    },
    {
      "cell_type": "markdown",
      "metadata": {
        "id": "xx4yvQBqzhlK",
        "colab_type": "text"
      },
      "source": [
        "| Code    | Description            | Code    | Description            |\n",
        "|---------|------------------------|---------|------------------------|\n",
        "| ``MS``  | Month start            |``BMS``  | Business month start   |\n",
        "| ``QS``  | Quarter start          |``BQS``  | Business quarter start |\n",
        "| ``AS``  | Year start             |``BAS``  | Business year start    |"
      ]
    },
    {
      "cell_type": "markdown",
      "metadata": {
        "id": "j2_UGQCQzhlM",
        "colab_type": "text"
      },
      "source": [
        "- ``Q-JAN``, ``BQ-FEB``, ``QS-MAR``, ``BQS-APR``, etc.\n",
        "- ``A-JAN``, ``BA-FEB``, ``AS-MAR``, ``BAS-APR``, etc.\n",
        "\n",
        "\n",
        "- ``W-SUN``, ``W-MON``, ``W-TUE``, ``W-WED``, etc.\n"
      ]
    },
    {
      "cell_type": "code",
      "metadata": {
        "id": "6XViTpARzhlO",
        "colab_type": "code",
        "outputId": "d0132754-08bd-4df4-e089-3933d7cc4178",
        "colab": {
          "base_uri": "https://localhost:8080/",
          "height": 92
        }
      },
      "source": [
        "pd.timedelta_range(0, periods=9, freq=\"2H30T\")"
      ],
      "execution_count": 23,
      "outputs": [
        {
          "output_type": "execute_result",
          "data": {
            "text/plain": [
              "TimedeltaIndex(['00:00:00', '02:30:00', '05:00:00', '07:30:00', '10:00:00',\n",
              "                '12:30:00', '15:00:00', '17:30:00', '20:00:00'],\n",
              "               dtype='timedelta64[ns]', freq='150T')"
            ]
          },
          "metadata": {
            "tags": []
          },
          "execution_count": 23
        }
      ]
    },
    {
      "cell_type": "code",
      "metadata": {
        "id": "THZgJtENzhlU",
        "colab_type": "code",
        "outputId": "8d241b0d-b559-49c9-bc86-c8430dec4175",
        "colab": {
          "base_uri": "https://localhost:8080/",
          "height": 72
        }
      },
      "source": [
        "from pandas.tseries.offsets import BDay\n",
        "pd.date_range('2015-07-01', periods=5, freq=BDay())"
      ],
      "execution_count": 24,
      "outputs": [
        {
          "output_type": "execute_result",
          "data": {
            "text/plain": [
              "DatetimeIndex(['2015-07-01', '2015-07-02', '2015-07-03', '2015-07-06',\n",
              "               '2015-07-07'],\n",
              "              dtype='datetime64[ns]', freq='B')"
            ]
          },
          "metadata": {
            "tags": []
          },
          "execution_count": 24
        }
      ]
    },
    {
      "cell_type": "markdown",
      "metadata": {
        "id": "PL8UUOYAzhlb",
        "colab_type": "text"
      },
      "source": [
        "## Muestreo, Cambios y Ventanas (resample, shift and windows)"
      ]
    },
    {
      "cell_type": "code",
      "metadata": {
        "id": "NZ3pnWX2zhle",
        "colab_type": "code",
        "outputId": "ac83d8a1-53cb-4b77-8fbd-2f13d7142a3c",
        "colab": {
          "base_uri": "https://localhost:8080/",
          "height": 487
        }
      },
      "source": [
        "#implementar conexion en data_source='google'\n",
        "from pandas_datareader import data\n",
        "\n",
        "goog = data.DataReader('GOOG', start='2004', end='2016',\n",
        "                       data_source='google')\n",
        "goog.head()"
      ],
      "execution_count": 25,
      "outputs": [
        {
          "output_type": "error",
          "ename": "ImmediateDeprecationError",
          "evalue": "ignored",
          "traceback": [
            "\u001b[0;31m---------------------------------------------------------------------------\u001b[0m",
            "\u001b[0;31mImmediateDeprecationError\u001b[0m                 Traceback (most recent call last)",
            "\u001b[0;32m<ipython-input-25-6ef9af706a66>\u001b[0m in \u001b[0;36m<module>\u001b[0;34m()\u001b[0m\n\u001b[1;32m      2\u001b[0m \u001b[0;34m\u001b[0m\u001b[0m\n\u001b[1;32m      3\u001b[0m goog = data.DataReader('GOOG', start='2004', end='2016',\n\u001b[0;32m----> 4\u001b[0;31m                        data_source='google')\n\u001b[0m\u001b[1;32m      5\u001b[0m \u001b[0mgoog\u001b[0m\u001b[0;34m.\u001b[0m\u001b[0mhead\u001b[0m\u001b[0;34m(\u001b[0m\u001b[0;34m)\u001b[0m\u001b[0;34m\u001b[0m\u001b[0;34m\u001b[0m\u001b[0m\n",
            "\u001b[0;32m/usr/local/lib/python3.6/dist-packages/pandas_datareader/data.py\u001b[0m in \u001b[0;36mDataReader\u001b[0;34m(name, data_source, start, end, retry_count, pause, session, access_key)\u001b[0m\n\u001b[1;32m    314\u001b[0m                                  \u001b[0mchunksize\u001b[0m\u001b[0;34m=\u001b[0m\u001b[0;36m25\u001b[0m\u001b[0;34m,\u001b[0m\u001b[0;34m\u001b[0m\u001b[0;34m\u001b[0m\u001b[0m\n\u001b[1;32m    315\u001b[0m                                  \u001b[0mretry_count\u001b[0m\u001b[0;34m=\u001b[0m\u001b[0mretry_count\u001b[0m\u001b[0;34m,\u001b[0m \u001b[0mpause\u001b[0m\u001b[0;34m=\u001b[0m\u001b[0mpause\u001b[0m\u001b[0;34m,\u001b[0m\u001b[0;34m\u001b[0m\u001b[0;34m\u001b[0m\u001b[0m\n\u001b[0;32m--> 316\u001b[0;31m                                  session=session).read()\n\u001b[0m\u001b[1;32m    317\u001b[0m \u001b[0;34m\u001b[0m\u001b[0m\n\u001b[1;32m    318\u001b[0m     \u001b[0;32melif\u001b[0m \u001b[0mdata_source\u001b[0m \u001b[0;34m==\u001b[0m \u001b[0;34m\"iex\"\u001b[0m\u001b[0;34m:\u001b[0m\u001b[0;34m\u001b[0m\u001b[0;34m\u001b[0m\u001b[0m\n",
            "\u001b[0;32m/usr/local/lib/python3.6/dist-packages/pandas_datareader/google/daily.py\u001b[0m in \u001b[0;36m__init__\u001b[0;34m(self, symbols, start, end, retry_count, pause, session, chunksize)\u001b[0m\n\u001b[1;32m     34\u001b[0m     def __init__(self, symbols=None, start=None, end=None, retry_count=3,\n\u001b[1;32m     35\u001b[0m                  pause=0.1, session=None, chunksize=25):\n\u001b[0;32m---> 36\u001b[0;31m         \u001b[0;32mraise\u001b[0m \u001b[0mImmediateDeprecationError\u001b[0m\u001b[0;34m(\u001b[0m\u001b[0mDEP_ERROR_MSG\u001b[0m\u001b[0;34m.\u001b[0m\u001b[0mformat\u001b[0m\u001b[0;34m(\u001b[0m\u001b[0;34m'Google finance'\u001b[0m\u001b[0;34m)\u001b[0m\u001b[0;34m)\u001b[0m\u001b[0;34m\u001b[0m\u001b[0;34m\u001b[0m\u001b[0m\n\u001b[0m\u001b[1;32m     37\u001b[0m         super(GoogleDailyReader, self).__init__(symbols, start, end,\n\u001b[1;32m     38\u001b[0m                                                 \u001b[0mretry_count\u001b[0m\u001b[0;34m,\u001b[0m \u001b[0mpause\u001b[0m\u001b[0;34m,\u001b[0m \u001b[0msession\u001b[0m\u001b[0;34m,\u001b[0m\u001b[0;34m\u001b[0m\u001b[0;34m\u001b[0m\u001b[0m\n",
            "\u001b[0;31mImmediateDeprecationError\u001b[0m: \nGoogle finance has been immediately deprecated due to large breaks in the API without the\nintroduction of a stable replacement. Pull Requests to re-enable these data\nconnectors are welcome.\n\nSee https://github.com/pydata/pandas-datareader/issues\n"
          ]
        }
      ]
    },
    {
      "cell_type": "code",
      "metadata": {
        "id": "WyG6JCz7zhlm",
        "colab_type": "code",
        "colab": {}
      },
      "source": [
        "goog = goog['Close']"
      ],
      "execution_count": 0,
      "outputs": []
    },
    {
      "cell_type": "code",
      "metadata": {
        "id": "ARv1O5kLzhls",
        "colab_type": "code",
        "colab": {}
      },
      "source": [
        "%matplotlib inline\n",
        "import matplotlib.pyplot as plt\n",
        "import seaborn; seaborn.set()"
      ],
      "execution_count": 0,
      "outputs": []
    },
    {
      "cell_type": "code",
      "metadata": {
        "id": "_VywS9urzhl0",
        "colab_type": "code",
        "colab": {}
      },
      "source": [
        "goog.plot();"
      ],
      "execution_count": 0,
      "outputs": []
    },
    {
      "cell_type": "markdown",
      "metadata": {
        "id": "DGh6MgA_zhl5",
        "colab_type": "text"
      },
      "source": [
        "### Muestres y conversión de frecuencias"
      ]
    },
    {
      "cell_type": "code",
      "metadata": {
        "id": "eIro_ZNyzhl9",
        "colab_type": "code",
        "colab": {}
      },
      "source": [
        "goog.plot(alpha=0.5, style='-')\n",
        "goog.resample('BA').mean().plot(style=':')\n",
        "goog.asfreq('BA').plot(style='--');\n",
        "plt.legend(['input', 'resample', 'asfreq'],\n",
        "           loc='upper left');"
      ],
      "execution_count": 0,
      "outputs": []
    },
    {
      "cell_type": "code",
      "metadata": {
        "id": "ry6mQs5LzhmC",
        "colab_type": "code",
        "colab": {}
      },
      "source": [
        "fig, ax = plt.subplots(2, sharex=True)\n",
        "data = goog.iloc[:10]\n",
        "\n",
        "data.asfreq('D').plot(ax=ax[0], marker='o')\n",
        "\n",
        "data.asfreq('D', method='bfill').plot(ax=ax[1], style='-o')\n",
        "data.asfreq('D', method='ffill').plot(ax=ax[1], style='--o')\n",
        "ax[1].legend([\"back-fill\", \"forward-fill\"]);"
      ],
      "execution_count": 0,
      "outputs": []
    },
    {
      "cell_type": "markdown",
      "metadata": {
        "id": "NoQG9ZuxzhmL",
        "colab_type": "text"
      },
      "source": [
        "### Cambios de tiempos (time-shifts)"
      ]
    },
    {
      "cell_type": "code",
      "metadata": {
        "id": "sgh84WkGzhmN",
        "colab_type": "code",
        "colab": {}
      },
      "source": [
        "fig, ax = plt.subplots(3, sharey=True)\n",
        "\n",
        "# apply a frequency to the data\n",
        "goog = goog.asfreq('D', method='pad')\n",
        "\n",
        "goog.plot(ax=ax[0])\n",
        "goog.shift(900).plot(ax=ax[1])\n",
        "goog.tshift(900).plot(ax=ax[2])\n",
        "\n",
        "# legends and annotations\n",
        "local_max = pd.to_datetime('2007-11-05')\n",
        "offset = pd.Timedelta(900, 'D')\n",
        "\n",
        "ax[0].legend(['input'], loc=2)\n",
        "ax[0].get_xticklabels()[2].set(weight='heavy', color='red')\n",
        "ax[0].axvline(local_max, alpha=0.3, color='red')\n",
        "\n",
        "ax[1].legend(['shift(900)'], loc=2)\n",
        "ax[1].get_xticklabels()[2].set(weight='heavy', color='red')\n",
        "ax[1].axvline(local_max + offset, alpha=0.3, color='red')\n",
        "\n",
        "ax[2].legend(['tshift(900)'], loc=2)\n",
        "ax[2].get_xticklabels()[1].set(weight='heavy', color='red')\n",
        "ax[2].axvline(local_max + offset, alpha=0.3, color='red');"
      ],
      "execution_count": 0,
      "outputs": []
    },
    {
      "cell_type": "code",
      "metadata": {
        "id": "iMdr6qz3zhmU",
        "colab_type": "code",
        "colab": {}
      },
      "source": [
        "ROI = 100 * (goog.tshift(-365) / goog - 1)\n",
        "ROI.plot()\n",
        "plt.ylabel('% Return on Investment');"
      ],
      "execution_count": 0,
      "outputs": []
    },
    {
      "cell_type": "markdown",
      "metadata": {
        "id": "EzdFw4oyzhmh",
        "colab_type": "text"
      },
      "source": [
        "### Ventanas móviles (rolling windows)"
      ]
    },
    {
      "cell_type": "code",
      "metadata": {
        "id": "amlrggTuzhmj",
        "colab_type": "code",
        "colab": {}
      },
      "source": [
        "rolling = goog.rolling(365, center=True)\n",
        "\n",
        "data = pd.DataFrame({'input': goog,\n",
        "                     'one-year rolling_mean': rolling.mean(),\n",
        "                     'one-year rolling_std': rolling.std()})\n",
        "ax = data.plot(style=['-', '--', ':'])\n",
        "ax.lines[0].set_alpha(0.3)"
      ],
      "execution_count": 0,
      "outputs": []
    },
    {
      "cell_type": "markdown",
      "metadata": {
        "id": "QruWETu-zhmp",
        "colab_type": "text"
      },
      "source": [
        "## Información adicional\n",
        "\n",
        "- Referirse a la sección [\"Time Series/Date\"](http://pandas.pydata.org/pandas-docs/stable/timeseries.html) de la documentación.\n"
      ]
    },
    {
      "cell_type": "markdown",
      "metadata": {
        "id": "2beHlsd7zhmr",
        "colab_type": "text"
      },
      "source": [
        "## Ejemplo: Visualización del número de bicicletas en Seattle "
      ]
    },
    {
      "cell_type": "code",
      "metadata": {
        "id": "wXwbP26szhmt",
        "colab_type": "code",
        "colab": {}
      },
      "source": [
        "# !curl -o FremontBridge.csv https://data.seattle.gov/api/views/65db-xm6k/rows.csv?accessType=DOWNLOAD"
      ],
      "execution_count": 0,
      "outputs": []
    },
    {
      "cell_type": "code",
      "metadata": {
        "id": "myPdBdLbzhmx",
        "colab_type": "code",
        "colab": {}
      },
      "source": [
        "data = pd.read_csv('FremontBridge.csv', index_col='Date', parse_dates=True)\n",
        "data.head()"
      ],
      "execution_count": 0,
      "outputs": []
    },
    {
      "cell_type": "code",
      "metadata": {
        "id": "sGxnFw6Rzhm4",
        "colab_type": "code",
        "colab": {}
      },
      "source": [
        "data.columns = ['West', 'East']\n",
        "data['Total'] = data.eval('West + East')"
      ],
      "execution_count": 0,
      "outputs": []
    },
    {
      "cell_type": "code",
      "metadata": {
        "id": "bkBRMwVKzhm8",
        "colab_type": "code",
        "colab": {}
      },
      "source": [
        "data.dropna().describe()"
      ],
      "execution_count": 0,
      "outputs": []
    },
    {
      "cell_type": "markdown",
      "metadata": {
        "id": "ebb1EDxKzhnK",
        "colab_type": "text"
      },
      "source": [
        "### Visualizando los datos"
      ]
    },
    {
      "cell_type": "code",
      "metadata": {
        "id": "t_1UV6mPzhnP",
        "colab_type": "code",
        "colab": {}
      },
      "source": [
        "%matplotlib inline\n",
        "import seaborn; seaborn.set()"
      ],
      "execution_count": 0,
      "outputs": []
    },
    {
      "cell_type": "code",
      "metadata": {
        "id": "LgH4oLQEzhnh",
        "colab_type": "code",
        "colab": {}
      },
      "source": [
        "data.plot()\n",
        "plt.ylabel('Hourly Bicycle Count');"
      ],
      "execution_count": 0,
      "outputs": []
    },
    {
      "cell_type": "code",
      "metadata": {
        "id": "OV-vE_R5zhnl",
        "colab_type": "code",
        "colab": {}
      },
      "source": [
        "weekly = data.resample('W').sum()\n",
        "weekly.plot(style=[':', '--', '-'])\n",
        "plt.ylabel('Weekly bicycle count');"
      ],
      "execution_count": 0,
      "outputs": []
    },
    {
      "cell_type": "code",
      "metadata": {
        "id": "OBM28fPDzhnp",
        "colab_type": "code",
        "colab": {}
      },
      "source": [
        "daily = data.resample('D').sum()\n",
        "daily.rolling(30, center=True).sum().plot(style=[':', '--', '-'])\n",
        "plt.ylabel('mean hourly count');"
      ],
      "execution_count": 0,
      "outputs": []
    },
    {
      "cell_type": "code",
      "metadata": {
        "id": "ApHFFVOJzhnu",
        "colab_type": "code",
        "colab": {}
      },
      "source": [
        "daily.rolling(50, center=True,\n",
        "              win_type='gaussian').sum(std=10).plot(style=[':', '--', '-']);"
      ],
      "execution_count": 0,
      "outputs": []
    },
    {
      "cell_type": "markdown",
      "metadata": {
        "id": "336AqUKuzhn4",
        "colab_type": "text"
      },
      "source": [
        "### Profundizando en los datos"
      ]
    },
    {
      "cell_type": "code",
      "metadata": {
        "id": "wF7N8jN-zhn7",
        "colab_type": "code",
        "colab": {}
      },
      "source": [
        "by_time = data.groupby(data.index.time).mean()\n",
        "hourly_ticks = 4 * 60 * 60 * np.arange(6)\n",
        "by_time.plot(xticks=hourly_ticks, style=[':', '--', '-']);"
      ],
      "execution_count": 0,
      "outputs": []
    },
    {
      "cell_type": "code",
      "metadata": {
        "id": "m6SV6xXTzhoA",
        "colab_type": "code",
        "colab": {}
      },
      "source": [
        "by_weekday = data.groupby(data.index.dayofweek).mean()\n",
        "by_weekday.index = ['Mon', 'Tues', 'Wed', 'Thurs', 'Fri', 'Sat', 'Sun']\n",
        "by_weekday.plot(style=[':', '--', '-']);"
      ],
      "execution_count": 0,
      "outputs": []
    },
    {
      "cell_type": "code",
      "metadata": {
        "id": "qVHySB2GzhoF",
        "colab_type": "code",
        "colab": {}
      },
      "source": [
        "weekend = np.where(data.index.weekday < 5, 'Weekday', 'Weekend')\n",
        "by_time = data.groupby([weekend, data.index.time]).mean()"
      ],
      "execution_count": 0,
      "outputs": []
    },
    {
      "cell_type": "code",
      "metadata": {
        "id": "mXIn36u1zhoM",
        "colab_type": "code",
        "colab": {}
      },
      "source": [
        "import matplotlib.pyplot as plt\n",
        "fig, ax = plt.subplots(1, 2, figsize=(14, 5))\n",
        "by_time.ix['Weekday'].plot(ax=ax[0], title='Weekdays',\n",
        "                           xticks=hourly_ticks, style=[':', '--', '-'])\n",
        "by_time.ix['Weekend'].plot(ax=ax[1], title='Weekends',\n",
        "                           xticks=hourly_ticks, style=[':', '--', '-']);"
      ],
      "execution_count": 0,
      "outputs": []
    },
    {
      "cell_type": "markdown",
      "metadata": {
        "id": "VFjFOLbpzhoQ",
        "colab_type": "text"
      },
      "source": [
        "<!--NAVIGATION-->\n",
        "< [Operaciones sobre texto](02.08-Working-With-Strings.ipynb) | [Contenido](Index.ipynb) | [Machine Learning](03.00-Machine-Learning.ipynb) >\n",
        "\n",
        "<a href=\"https://colab.research.google.com/github/htapia/TallerPythonIntroCienciaDatos/blob/master/notebooks/02.09-Working-with-Time-Series.ipynb\"><img align=\"left\" src=\"https://colab.research.google.com/assets/colab-badge.svg\" alt=\"Open in Colab\" title=\"Open and Execute in Google Colaboratory\"></a>\n"
      ]
    }
  ]
}